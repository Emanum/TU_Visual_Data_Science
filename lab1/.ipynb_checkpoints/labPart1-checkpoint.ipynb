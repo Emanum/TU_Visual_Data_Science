{
 "cells": [
  {
   "cell_type": "markdown",
   "metadata": {},
   "source": [
    "# Lab Part 1 - Eiweck Manuel 01633012"
   ]
  },
  {
   "cell_type": "markdown",
   "metadata": {},
   "source": [
    "## Task 1: Clustering"
   ]
  },
  {
   "cell_type": "markdown",
   "metadata": {},
   "source": [
    "In this task you will have to cluster the food types according to two nutrition elements. The following combinations are suggestions, you can also find your own preferred combination of nutrition elements:\n",
    "\n",
    "* Energy_(kcal) and Protein_(g)\n",
    "* Energy_(kcal) and Carbohydrt_(g)\n",
    "* Energy_(kcal) and Water_(g)\n",
    "* Energy_(kcal) and FA_Sat_(g)\n",
    "* Water_(g) and Zinc_(mg)\n",
    "* Water_(g) and Iron_(mg)\n",
    "* Water_(g) and Phosphorus_(mg)\n",
    "* Water_(g) and Sugar_(g)\n",
    "* Sugar_(g) and Protein_(mg)\n",
    "\n",
    "Statistical analysis: Use the Python functionalities, for example sklearn.cluster, to cluster the data.\n",
    "Visualization: Use a 2D scatter plot, or any other visualization you would prefer, to identify the clusters. Use the Python plotting functionalities, for example pyplot.\n",
    "\n",
    "Please answer the following questions in the final report:\n",
    "\n",
    "Why did you select the specific combination of nutrition elements?\n",
    "How did you find out how many clusters need to be formed to describe the data best?\n",
    "Which Python functionality did you use for the statistical analysis and which visualization type did you employ?\n",
    "Which aspects of the task (e.g., identifying the number of clusters) where easier to solve by using statistical analysis, and which by using visualization?"
   ]
  },
  {
   "cell_type": "code",
   "execution_count": null,
   "metadata": {},
   "outputs": [],
   "source": []
  }
 ],
 "metadata": {
  "kernelspec": {
   "display_name": "Python 3",
   "language": "python",
   "name": "python3"
  },
  "language_info": {
   "codemirror_mode": {
    "name": "ipython",
    "version": 3
   },
   "file_extension": ".py",
   "mimetype": "text/x-python",
   "name": "python",
   "nbconvert_exporter": "python",
   "pygments_lexer": "ipython3",
   "version": "3.7.6"
  }
 },
 "nbformat": 4,
 "nbformat_minor": 4
}
